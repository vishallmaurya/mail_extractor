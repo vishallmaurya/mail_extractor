{
 "cells": [
  {
   "cell_type": "code",
   "execution_count": 1,
   "id": "6a72ce09",
   "metadata": {},
   "outputs": [
    {
     "name": "stdout",
     "output_type": "stream",
     "text": [
      "Requirement already satisfied: selenium in c:\\users\\admin\\anaconda3\\lib\\site-packages (4.17.2)\n",
      "Requirement already satisfied: trio~=0.17 in c:\\users\\admin\\anaconda3\\lib\\site-packages (from selenium) (0.24.0)\n",
      "Requirement already satisfied: trio-websocket~=0.9 in c:\\users\\admin\\anaconda3\\lib\\site-packages (from selenium) (0.11.1)\n",
      "Requirement already satisfied: certifi>=2021.10.8 in c:\\users\\admin\\anaconda3\\lib\\site-packages (from selenium) (2021.10.8)\n",
      "Requirement already satisfied: typing_extensions>=4.9.0 in c:\\users\\admin\\anaconda3\\lib\\site-packages (from selenium) (4.9.0)\n",
      "Requirement already satisfied: urllib3[socks]<3,>=1.26 in c:\\users\\admin\\anaconda3\\lib\\site-packages (from selenium) (1.26.9)\n",
      "Requirement already satisfied: idna in c:\\users\\admin\\anaconda3\\lib\\site-packages (from trio~=0.17->selenium) (3.3)\n",
      "Requirement already satisfied: cffi>=1.14 in c:\\users\\admin\\anaconda3\\lib\\site-packages (from trio~=0.17->selenium) (1.15.0)\n",
      "Requirement already satisfied: attrs>=20.1.0 in c:\\users\\admin\\anaconda3\\lib\\site-packages (from trio~=0.17->selenium) (21.4.0)\n",
      "Requirement already satisfied: exceptiongroup in c:\\users\\admin\\anaconda3\\lib\\site-packages (from trio~=0.17->selenium) (1.2.0)\n",
      "Requirement already satisfied: outcome in c:\\users\\admin\\anaconda3\\lib\\site-packages (from trio~=0.17->selenium) (1.3.0.post0)\n",
      "Requirement already satisfied: sortedcontainers in c:\\users\\admin\\anaconda3\\lib\\site-packages (from trio~=0.17->selenium) (2.4.0)\n",
      "Requirement already satisfied: sniffio>=1.3.0 in c:\\users\\admin\\anaconda3\\lib\\site-packages (from trio~=0.17->selenium) (1.3.0)\n",
      "Requirement already satisfied: pycparser in c:\\users\\admin\\anaconda3\\lib\\site-packages (from cffi>=1.14->trio~=0.17->selenium) (2.21)\n",
      "Requirement already satisfied: wsproto>=0.14 in c:\\users\\admin\\anaconda3\\lib\\site-packages (from trio-websocket~=0.9->selenium) (1.2.0)\n",
      "Requirement already satisfied: PySocks!=1.5.7,<2.0,>=1.5.6 in c:\\users\\admin\\anaconda3\\lib\\site-packages (from urllib3[socks]<3,>=1.26->selenium) (1.7.1)\n",
      "Requirement already satisfied: h11<1,>=0.9.0 in c:\\users\\admin\\anaconda3\\lib\\site-packages (from wsproto>=0.14->trio-websocket~=0.9->selenium) (0.14.0)\n"
     ]
    }
   ],
   "source": [
    "!pip install selenium"
   ]
  },
  {
   "cell_type": "code",
   "execution_count": 2,
   "id": "6c934730",
   "metadata": {},
   "outputs": [],
   "source": [
    "from selenium import webdriver\n",
    "from selenium.webdriver.chrome.service import Service"
   ]
  },
  {
   "cell_type": "code",
   "execution_count": 3,
   "id": "1a2e3810",
   "metadata": {},
   "outputs": [],
   "source": [
    "from selenium.webdriver.common.by import By\n",
    "from selenium.webdriver.common.keys import Keys"
   ]
  },
  {
   "cell_type": "code",
   "execution_count": 4,
   "id": "8d426204",
   "metadata": {},
   "outputs": [],
   "source": [
    "from selenium.webdriver.support.ui import WebDriverWait\n",
    "from selenium.webdriver.support import expected_conditions as EC\n",
    "from selenium.webdriver.chrome.options import Options"
   ]
  },
  {
   "cell_type": "code",
   "execution_count": 11,
   "id": "199bbe0b",
   "metadata": {},
   "outputs": [],
   "source": [
    "import getpass\n",
    "import sys"
   ]
  },
  {
   "cell_type": "code",
   "execution_count": 18,
   "id": "2f9a925b",
   "metadata": {},
   "outputs": [
    {
     "name": "stdout",
     "output_type": "stream",
     "text": [
      "Collecting chromedriver_autoinstaller\n",
      "  Downloading chromedriver_autoinstaller-0.6.4-py3-none-any.whl (7.6 kB)\n",
      "Collecting packaging>=23.1\n",
      "  Downloading packaging-24.1-py3-none-any.whl (53 kB)\n",
      "Installing collected packages: packaging, chromedriver-autoinstaller\n",
      "  Attempting uninstall: packaging\n",
      "    Found existing installation: packaging 21.3\n",
      "    Uninstalling packaging-21.3:\n",
      "      Successfully uninstalled packaging-21.3\n",
      "Successfully installed chromedriver-autoinstaller-0.6.4 packaging-24.1\n"
     ]
    },
    {
     "name": "stderr",
     "output_type": "stream",
     "text": [
      "ERROR: pip's dependency resolver does not currently take into account all the packages that are installed. This behaviour is the source of the following dependency conflicts.\n",
      "jupyter-server 1.13.5 requires pywinpty<2; os_name == \"nt\", but you have pywinpty 2.0.2 which is incompatible.\n"
     ]
    }
   ],
   "source": [
    "!pip install chromedriver_autoinstaller"
   ]
  },
  {
   "cell_type": "code",
   "execution_count": 19,
   "id": "daab9c1b",
   "metadata": {},
   "outputs": [
    {
     "data": {
      "text/plain": [
       "'C:\\\\Users\\\\Admin\\\\anaconda3\\\\lib\\\\site-packages\\\\chromedriver_autoinstaller\\\\127\\\\chromedriver.exe'"
      ]
     },
     "execution_count": 19,
     "metadata": {},
     "output_type": "execute_result"
    }
   ],
   "source": [
    "import chromedriver_autoinstaller as chromedriver\n",
    "chromedriver.install()"
   ]
  },
  {
   "cell_type": "code",
   "execution_count": 20,
   "id": "9c47c00e",
   "metadata": {},
   "outputs": [
    {
     "name": "stdout",
     "output_type": "stream",
     "text": [
      "Enter the mail id:  2023pgcsca074@nitjsr.ac.in\n",
      "Enter mail password:  ········\n"
     ]
    }
   ],
   "source": [
    "mail_id = input(\"Enter the mail id:  \")\n",
    "sys.stdout.write(\"Enter mail password:  \")\n",
    "pwd = getpass.getpass()"
   ]
  },
  {
   "cell_type": "code",
   "execution_count": 38,
   "id": "3237e6be",
   "metadata": {},
   "outputs": [
    {
     "name": "stdout",
     "output_type": "stream",
     "text": [
      "herejrhkerkje bahar\n"
     ]
    }
   ],
   "source": [
    "chrome_options = Options()\n",
    "# chrome_options.add_argument(\"--headless\") \n",
    "service = Service(executable_path=\"chromedriver.exe\")\n",
    "driver = webdriver.Chrome(service=service)\n",
    "\n",
    "link = \"https://accounts.google.com/v3/signin/identifier?continue=https%3A%2F%2Fmail.google.com%2Fmail%2F&ifkv=AdF4I765QReJ71WSNzVTcdsoMEbhspIY857CqKPihSR6sxgevRhjSenBf0E8ixkVkWXsK_fW2F-l&rip=1&sacu=1&service=mail&flowName=GlifWebSignIn&flowEntry=ServiceLogin&dsh=S1226061446%3A1723090234032641&ddm=0\"\n",
    "\n",
    "driver.get(link)\n",
    "\n",
    "WebDriverWait(driver, 10).until(EC.presence_of_element_located((By.ID, \"identifierId\"))).send_keys(mail_id)\n",
    "\n",
    "\n",
    "nt_button_path = \"//span[@jsname='V67aGc' and contains(@class, 'VfPpkd-vQzf8d') and text()='Next']\"\n",
    "WebDriverWait(driver, 10).until(EC.presence_of_element_located((By.XPATH, nt_button_path))).click()\n",
    "\n",
    "pwd_xpath = \"//*[@id='password']/div[1]/div/div[1]/input\"\n",
    "WebDriverWait(driver, 10).until(EC.presence_of_element_located((By.XPATH, pwd_xpath))).send_keys(pwd)\n",
    "\n",
    "pwd_next_xpath = \"//*[@id='passwordNext']/div/button/span\"\n",
    "WebDriverWait(driver, 10).until(EC.presence_of_element_located((By.XPATH, pwd_next_xpath))).click()\n",
    "\n",
    "WebDriverWait(driver, 10).until(EC.presence_of_element_located((By.ID, \":ko\"))).click()\n",
    "\n",
    "table_id = \":m2\"\n",
    "\n",
    "WebDriverWait(driver, 10).until(EC.presence_of_element_located((By.ID, table_id)))\n",
    "table = driver.find_element(By.ID, table_id)\n",
    "\n",
    "rows = driver.find_elements(By.XPATH, '//table[@id=\":m2\"]//tr[@role=\"row\"]')\n",
    "\n",
    "for row in rows:\n",
    "    print(\"herejrhkerkje\")\n",
    "    # Extract email\n",
    "    email_element = row.find_element(By.XPATH, './/span[@email]')\n",
    "    email = email_element.get_attribute('email') if email_element else 'N/A'\n",
    "    \n",
    "    # Extract subject\n",
    "    subject_element = row.find_element(By.XPATH, './/span[@data-thread-id]')\n",
    "    subject = subject_element.text.strip() if subject_element else 'N/A'\n",
    "    \n",
    "    print(f\"Email: {email}, Subject: {subject}\")"
   ]
  },
  {
   "cell_type": "code",
   "execution_count": null,
   "id": "ac919b99",
   "metadata": {},
   "outputs": [],
   "source": [
    "\n",
    "\n",
    "link1 = \"https://codeforces.com/submissions/\" + id\n",
    "driver.get(link1)\n",
    "\n",
    "input_element = driver.find_element(By.CSS_SELECTOR, \"td.id-cell.left\")\n",
    "# input_element = driver.find_element(By.CLASS_NAME, \"\")\n",
    "input_element.click()\n",
    "# print()\n",
    "# el = driver.find_element(By.XPATH, \"//*[data-problemid]/..\")\n",
    "# copy_code = driver.find_element(By.ID, \"program-source-text-copy\")\n",
    "# WebDriverWait(driver, 10).until(EC.element_to_be_clickable((By.ID, \"program-source-text-copy\"))).click()\n",
    "\n",
    "\"COPYING\"\n",
    "\n",
    "# var = WebDriverWait(driver, 10).until(EC.element_located_to_be_selected((By.CSS_SELECTOR, \"code.source-popup-source.prettyprint.linenums.lang-c.prettyprinted\"))).text\n",
    "\n",
    "# variable = root.clipboard_get()\n",
    "# print(var)\n",
    "# print(variable)\n",
    "# variable = pyperclip.paste()\n",
    "\n",
    "\n",
    "\n",
    "WebDriverWait(driver, 10).until(EC.presence_of_element_located((By.TAG_NAME, \"ol\")))\n",
    "data = driver.find_elements(By.TAG_NAME, \"ol\")\n",
    "\n",
    "variable = \"\"\n",
    "\n",
    "for child in data:\n",
    "    variable = variable + child.text\n",
    "\n",
    "# print(question.text)\n",
    "# driver.find_element(By.CLASS_NAME, \"close_image\").click()\n",
    "question = driver.find_elements(By.CSS_SELECTOR, \"td.status-small.dark\")\n",
    "count = 0\n",
    "for q in question:\n",
    "    if count == 1:\n",
    "        ques = q.get_attribute(\"innerHTML\")\n",
    "        break\n",
    "    count += 1\n",
    "ques = ques[ques.find('>')+1:]\n",
    "ques = ques[:ques.find('<')]\n",
    "ques = ques.strip()\n",
    "time.sleep(5)\n",
    "# WebDriverWait(driver, 5).until(EC.presence_of_element_located((By.CLASS_NAME , \"close_image\"))).click()\n",
    "# el = driver.find_element(By.ID, \"header\")\n",
    "# print(el)\n",
    "\n",
    "q_string = \"//*[contains(text(), '\" + ques + \"')]\"\n",
    "# print(q_string)\n",
    "\n",
    "# ss = Screenshot_clipping.Screenshot()\n",
    "# screen_shot = ss.full_screenshot(driver, image_name= ‘name.png’)\n",
    "\n",
    "driver.refresh()\n",
    "WebDriverWait(driver, 10).until(EC.element_to_be_clickable((By.XPATH, q_string))).click()\n",
    "# driver.find_element(By.XPATH , ).click()\n",
    "\n",
    "WebDriverWait(driver, 10).until(EC.presence_of_element_located((By.XPATH, \"//*[contains(text(), 'Enter')]\"))).click()\n",
    "\n",
    "WebDriverWait(driver, 10).until(EC.presence_of_element_located((By.ID, \"handleOrEmail\"))).send_keys(\"vishalexperiment210\" + Keys.ENTER)\n",
    "\n",
    "# input_element = driver.find_element(By.ID, \"handleOrEmail\")\n",
    "WebDriverWait(driver, 10).until(EC.presence_of_element_located((By.ID, \"password\"))).send_keys(\"experiment123\" + Keys.ENTER)\n",
    "# pwd_element = driver.find_element(By.ID, \"password\")\n",
    "# pwd_element.send_keys(\"experiment123\" + Keys.ENTER)\n",
    "\n",
    "WebDriverWait(driver, 10).until(EC.element_to_be_clickable((By.XPATH, \"//*[contains(text(), 'Submit Code')]\"))).click()\n",
    "WebDriverWait(driver, 10).until(EC.presence_of_element_located((By.NAME, \"submittedProblemIndex\"))).send_keys(ques)\n",
    "\n",
    "WebDriverWait(driver, 10).until(EC.presence_of_element_located((By.CLASS_NAME, \"ace_content\"))).click()\n",
    "# ans = driver.find_element(By.CLASS_NAME, \"ace_content\").click()\n",
    "# WebDriverWait(driver,10).until(EC.presence_of_element_located((ans.send_keys(variable))))\n",
    "# driver.find_element(By.ID, \"sourceCodeTextarea\").send_keys(variable)\n",
    "# ans.send_keys(variable+Keys.ENTER)#include<bits/stdc++.h>\n",
    "\n",
    "\n",
    "\"\"\"\n",
    "    Pasting\n",
    "\n",
    "\"\"\"\n",
    "# pyautogui.sleep(5)\n",
    "\n",
    "var = random.random()\n",
    "# variable = f\"//vishal{var}\\n\" + variable\n",
    "# pyperclip.copy(variable)\n",
    "# print(variable)\n",
    "\n",
    "pyautogui.typewrite(f\"//vishal{var}\\n\" + variable)\n",
    "pyautogui.hotkey('ctrl', 'v')\n",
    "\n",
    "ace_editor = WebDriverWait(driver, 10).until(EC.presence_of_element_located((By.CLASS_NAME, \"ace_content\")))\n",
    "\n",
    "# Set the text to be inserted into the ACE editor\n",
    "# text_to_insert = variable\n",
    "\n",
    "# Execute JavaScript to set text in the ACE editor\n",
    "# script = f'''\n",
    "# var ace_editors = document.getElementsByClassName('ace_content');\n",
    "# for (var i = 0; i < ace_editors.length; i++) {{\n",
    "#     var editor = ace.edit(ace_editors[i]);\n",
    "#     editor.setValue('{text_to_insert}');\n",
    "# }}\n",
    "# '''\n",
    "# driver.execute_script(script)\n",
    "\n",
    "# script = f'''\n",
    "# var ace_editor = ace.edit(\"id_of_your_ace_editor_element\");\n",
    "# ace_editor.setValue(\"{text_to_set}\");\n",
    "# '''\n",
    "# driver.execute_script(script)\n",
    "\n",
    "\n",
    "\"\"\"\n",
    "    Pasting\n",
    "    \n",
    "\"\"\"\n",
    "\n",
    "WebDriverWait(driver, 10).until(EC.presence_of_element_located((By.ID, \"singlePageSubmitButton\"))).click()\n",
    "\n",
    "#     print(q.get_attr(\"innerHTML\"))\n",
    "\n",
    "time.sleep(6)\n",
    "driver.quit()"
   ]
  }
 ],
 "metadata": {
  "kernelspec": {
   "display_name": "Python 3 (ipykernel)",
   "language": "python",
   "name": "python3"
  },
  "language_info": {
   "codemirror_mode": {
    "name": "ipython",
    "version": 3
   },
   "file_extension": ".py",
   "mimetype": "text/x-python",
   "name": "python",
   "nbconvert_exporter": "python",
   "pygments_lexer": "ipython3",
   "version": "3.9.12"
  }
 },
 "nbformat": 4,
 "nbformat_minor": 5
}
