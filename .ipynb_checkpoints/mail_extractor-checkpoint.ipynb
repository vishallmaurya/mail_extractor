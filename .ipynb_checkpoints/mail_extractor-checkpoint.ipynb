{
 "cells": [
  {
   "cell_type": "code",
   "execution_count": 3,
   "id": "6a72ce09",
   "metadata": {},
   "outputs": [
    {
     "name": "stdout",
     "output_type": "stream",
     "text": [
      "Requirement already satisfied: selenium in c:\\users\\admin\\anaconda3\\lib\\site-packages (4.17.2)\n",
      "Requirement already satisfied: certifi>=2021.10.8 in c:\\users\\admin\\anaconda3\\lib\\site-packages (from selenium) (2021.10.8)\n",
      "Requirement already satisfied: trio~=0.17 in c:\\users\\admin\\anaconda3\\lib\\site-packages (from selenium) (0.24.0)\n",
      "Requirement already satisfied: trio-websocket~=0.9 in c:\\users\\admin\\anaconda3\\lib\\site-packages (from selenium) (0.11.1)\n",
      "Requirement already satisfied: typing_extensions>=4.9.0 in c:\\users\\admin\\anaconda3\\lib\\site-packages (from selenium) (4.9.0)\n",
      "Requirement already satisfied: urllib3[socks]<3,>=1.26 in c:\\users\\admin\\anaconda3\\lib\\site-packages (from selenium) (1.26.9)\n",
      "Requirement already satisfied: cffi>=1.14 in c:\\users\\admin\\anaconda3\\lib\\site-packages (from trio~=0.17->selenium) (1.15.0)\n",
      "Requirement already satisfied: exceptiongroup in c:\\users\\admin\\anaconda3\\lib\\site-packages (from trio~=0.17->selenium) (1.2.0)\n",
      "Requirement already satisfied: idna in c:\\users\\admin\\anaconda3\\lib\\site-packages (from trio~=0.17->selenium) (3.3)\n",
      "Requirement already satisfied: outcome in c:\\users\\admin\\anaconda3\\lib\\site-packages (from trio~=0.17->selenium) (1.3.0.post0)\n",
      "Requirement already satisfied: sniffio>=1.3.0 in c:\\users\\admin\\anaconda3\\lib\\site-packages (from trio~=0.17->selenium) (1.3.0)\n",
      "Requirement already satisfied: attrs>=20.1.0 in c:\\users\\admin\\anaconda3\\lib\\site-packages (from trio~=0.17->selenium) (21.4.0)\n",
      "Requirement already satisfied: sortedcontainers in c:\\users\\admin\\anaconda3\\lib\\site-packages (from trio~=0.17->selenium) (2.4.0)\n",
      "Requirement already satisfied: pycparser in c:\\users\\admin\\anaconda3\\lib\\site-packages (from cffi>=1.14->trio~=0.17->selenium) (2.21)\n",
      "Requirement already satisfied: wsproto>=0.14 in c:\\users\\admin\\anaconda3\\lib\\site-packages (from trio-websocket~=0.9->selenium) (1.2.0)\n",
      "Requirement already satisfied: PySocks!=1.5.7,<2.0,>=1.5.6 in c:\\users\\admin\\anaconda3\\lib\\site-packages (from urllib3[socks]<3,>=1.26->selenium) (1.7.1)\n",
      "Requirement already satisfied: h11<1,>=0.9.0 in c:\\users\\admin\\anaconda3\\lib\\site-packages (from wsproto>=0.14->trio-websocket~=0.9->selenium) (0.14.0)\n"
     ]
    }
   ],
   "source": [
    "!pip install selenium"
   ]
  },
  {
   "cell_type": "code",
   "execution_count": 4,
   "id": "6c934730",
   "metadata": {},
   "outputs": [],
   "source": [
    "from selenium import webdriver\n",
    "from selenium.webdriver.chrome.service import Service"
   ]
  },
  {
   "cell_type": "code",
   "execution_count": 5,
   "id": "1a2e3810",
   "metadata": {},
   "outputs": [],
   "source": [
    "from selenium.webdriver.common.by import By\n",
    "from selenium.webdriver.common.keys import Keys"
   ]
  },
  {
   "cell_type": "code",
   "execution_count": 6,
   "id": "8d426204",
   "metadata": {},
   "outputs": [],
   "source": [
    "from selenium.webdriver.support.ui import WebDriverWait\n",
    "from selenium.webdriver.support import expected_conditions as EC\n",
    "from selenium.webdriver.chrome.options import Options"
   ]
  },
  {
   "cell_type": "code",
   "execution_count": 7,
   "id": "199bbe0b",
   "metadata": {},
   "outputs": [],
   "source": [
    "import getpass\n",
    "import sys"
   ]
  },
  {
   "cell_type": "code",
   "execution_count": 8,
   "id": "2f9a925b",
   "metadata": {},
   "outputs": [],
   "source": [
    "# !pip install chromedriver_autoinstaller"
   ]
  },
  {
   "cell_type": "code",
   "execution_count": 9,
   "id": "daab9c1b",
   "metadata": {},
   "outputs": [],
   "source": [
    "# import chromedriver_autoinstaller as chromedriver\n",
    "# chromedriver.install()"
   ]
  },
  {
   "cell_type": "code",
   "execution_count": 18,
   "id": "9c47c00e",
   "metadata": {},
   "outputs": [
    {
     "name": "stdout",
     "output_type": "stream",
     "text": [
      "Enter the mail id:  2023pgcsca074@nitjsr.ac.in\n",
      "Enter mail password:  ········\n"
     ]
    }
   ],
   "source": [
    "mail_id = input(\"Enter the mail id:  \")\n",
    "sys.stdout.write(\"Enter mail password:  \")\n",
    "pwd = getpass.getpass()"
   ]
  },
  {
   "cell_type": "code",
   "execution_count": 27,
   "id": "3237e6be",
   "metadata": {},
   "outputs": [
    {
     "ename": "ElementNotInteractableException",
     "evalue": "Message: element not interactable\n  (Session info: chrome=127.0.6533.90)\nStacktrace:\n\tGetHandleVerifier [0x00007FF7CF7E9632+30946]\n\t(No symbol) [0x00007FF7CF79E3C9]\n\t(No symbol) [0x00007FF7CF696E09]\n\t(No symbol) [0x00007FF7CF6E1E13]\n\t(No symbol) [0x00007FF7CF6DFF79]\n\t(No symbol) [0x00007FF7CF70CA6A]\n\t(No symbol) [0x00007FF7CF6DBBB6]\n\t(No symbol) [0x00007FF7CF70CC80]\n\t(No symbol) [0x00007FF7CF72B041]\n\t(No symbol) [0x00007FF7CF70C813]\n\t(No symbol) [0x00007FF7CF6DA6E5]\n\t(No symbol) [0x00007FF7CF6DB021]\n\tGetHandleVerifier [0x00007FF7CF91F83D+1301229]\n\tGetHandleVerifier [0x00007FF7CF92BDB7+1351783]\n\tGetHandleVerifier [0x00007FF7CF922A03+1313971]\n\tGetHandleVerifier [0x00007FF7CF81DD06+245686]\n\t(No symbol) [0x00007FF7CF7A758F]\n\t(No symbol) [0x00007FF7CF7A3804]\n\t(No symbol) [0x00007FF7CF7A3992]\n\t(No symbol) [0x00007FF7CF79A3EF]\n\tBaseThreadInitThunk [0x00007FF96F387374+20]\n\tRtlUserThreadStart [0x00007FF97137CC91+33]\n",
     "output_type": "error",
     "traceback": [
      "\u001b[1;31m---------------------------------------------------------------------------\u001b[0m",
      "\u001b[1;31mElementNotInteractableException\u001b[0m           Traceback (most recent call last)",
      "Input \u001b[1;32mIn [27]\u001b[0m, in \u001b[0;36m<cell line: 16>\u001b[1;34m()\u001b[0m\n\u001b[0;32m     13\u001b[0m WebDriverWait(driver, \u001b[38;5;241m10\u001b[39m)\u001b[38;5;241m.\u001b[39muntil(EC\u001b[38;5;241m.\u001b[39mpresence_of_element_located((By\u001b[38;5;241m.\u001b[39mXPATH, nt_button_path)))\u001b[38;5;241m.\u001b[39mclick()\n\u001b[0;32m     15\u001b[0m pwd_xpath \u001b[38;5;241m=\u001b[39m \u001b[38;5;124m\"\u001b[39m\u001b[38;5;124m//*[@id=\u001b[39m\u001b[38;5;124m'\u001b[39m\u001b[38;5;124mpassword\u001b[39m\u001b[38;5;124m'\u001b[39m\u001b[38;5;124m]/div[1]/div/div[1]/input\u001b[39m\u001b[38;5;124m\"\u001b[39m\n\u001b[1;32m---> 16\u001b[0m \u001b[43mWebDriverWait\u001b[49m\u001b[43m(\u001b[49m\u001b[43mdriver\u001b[49m\u001b[43m,\u001b[49m\u001b[43m \u001b[49m\u001b[38;5;241;43m10\u001b[39;49m\u001b[43m)\u001b[49m\u001b[38;5;241;43m.\u001b[39;49m\u001b[43muntil\u001b[49m\u001b[43m(\u001b[49m\u001b[43mEC\u001b[49m\u001b[38;5;241;43m.\u001b[39;49m\u001b[43mpresence_of_element_located\u001b[49m\u001b[43m(\u001b[49m\u001b[43m(\u001b[49m\u001b[43mBy\u001b[49m\u001b[38;5;241;43m.\u001b[39;49m\u001b[43mXPATH\u001b[49m\u001b[43m,\u001b[49m\u001b[43m \u001b[49m\u001b[43mpwd_xpath\u001b[49m\u001b[43m)\u001b[49m\u001b[43m)\u001b[49m\u001b[43m)\u001b[49m\u001b[38;5;241;43m.\u001b[39;49m\u001b[43msend_keys\u001b[49m\u001b[43m(\u001b[49m\u001b[43mpwd\u001b[49m\u001b[43m)\u001b[49m\n\u001b[0;32m     17\u001b[0m pwd_next_xpath \u001b[38;5;241m=\u001b[39m \u001b[38;5;124m\"\u001b[39m\u001b[38;5;124m//*[@id=\u001b[39m\u001b[38;5;124m'\u001b[39m\u001b[38;5;124mpasswordNext\u001b[39m\u001b[38;5;124m'\u001b[39m\u001b[38;5;124m]/div/button/span\u001b[39m\u001b[38;5;124m\"\u001b[39m\n\u001b[0;32m     18\u001b[0m WebDriverWait(driver, \u001b[38;5;241m10\u001b[39m)\u001b[38;5;241m.\u001b[39muntil(EC\u001b[38;5;241m.\u001b[39mpresence_of_element_located((By\u001b[38;5;241m.\u001b[39mXPATH, pwd_next_xpath)))\u001b[38;5;241m.\u001b[39mclick()\n",
      "File \u001b[1;32m~\\anaconda3\\lib\\site-packages\\selenium\\webdriver\\remote\\webelement.py:231\u001b[0m, in \u001b[0;36mWebElement.send_keys\u001b[1;34m(self, *value)\u001b[0m\n\u001b[0;32m    228\u001b[0m             remote_files\u001b[38;5;241m.\u001b[39mappend(\u001b[38;5;28mself\u001b[39m\u001b[38;5;241m.\u001b[39m_upload(file))\n\u001b[0;32m    229\u001b[0m         value \u001b[38;5;241m=\u001b[39m \u001b[38;5;124m\"\u001b[39m\u001b[38;5;130;01m\\n\u001b[39;00m\u001b[38;5;124m\"\u001b[39m\u001b[38;5;241m.\u001b[39mjoin(remote_files)\n\u001b[1;32m--> 231\u001b[0m \u001b[38;5;28;43mself\u001b[39;49m\u001b[38;5;241;43m.\u001b[39;49m\u001b[43m_execute\u001b[49m\u001b[43m(\u001b[49m\n\u001b[0;32m    232\u001b[0m \u001b[43m    \u001b[49m\u001b[43mCommand\u001b[49m\u001b[38;5;241;43m.\u001b[39;49m\u001b[43mSEND_KEYS_TO_ELEMENT\u001b[49m\u001b[43m,\u001b[49m\u001b[43m \u001b[49m\u001b[43m{\u001b[49m\u001b[38;5;124;43m\"\u001b[39;49m\u001b[38;5;124;43mtext\u001b[39;49m\u001b[38;5;124;43m\"\u001b[39;49m\u001b[43m:\u001b[49m\u001b[43m \u001b[49m\u001b[38;5;124;43m\"\u001b[39;49m\u001b[38;5;124;43m\"\u001b[39;49m\u001b[38;5;241;43m.\u001b[39;49m\u001b[43mjoin\u001b[49m\u001b[43m(\u001b[49m\u001b[43mkeys_to_typing\u001b[49m\u001b[43m(\u001b[49m\u001b[43mvalue\u001b[49m\u001b[43m)\u001b[49m\u001b[43m)\u001b[49m\u001b[43m,\u001b[49m\u001b[43m \u001b[49m\u001b[38;5;124;43m\"\u001b[39;49m\u001b[38;5;124;43mvalue\u001b[39;49m\u001b[38;5;124;43m\"\u001b[39;49m\u001b[43m:\u001b[49m\u001b[43m \u001b[49m\u001b[43mkeys_to_typing\u001b[49m\u001b[43m(\u001b[49m\u001b[43mvalue\u001b[49m\u001b[43m)\u001b[49m\u001b[43m}\u001b[49m\n\u001b[0;32m    233\u001b[0m \u001b[43m\u001b[49m\u001b[43m)\u001b[49m\n",
      "File \u001b[1;32m~\\anaconda3\\lib\\site-packages\\selenium\\webdriver\\remote\\webelement.py:395\u001b[0m, in \u001b[0;36mWebElement._execute\u001b[1;34m(self, command, params)\u001b[0m\n\u001b[0;32m    393\u001b[0m     params \u001b[38;5;241m=\u001b[39m {}\n\u001b[0;32m    394\u001b[0m params[\u001b[38;5;124m\"\u001b[39m\u001b[38;5;124mid\u001b[39m\u001b[38;5;124m\"\u001b[39m] \u001b[38;5;241m=\u001b[39m \u001b[38;5;28mself\u001b[39m\u001b[38;5;241m.\u001b[39m_id\n\u001b[1;32m--> 395\u001b[0m \u001b[38;5;28;01mreturn\u001b[39;00m \u001b[38;5;28;43mself\u001b[39;49m\u001b[38;5;241;43m.\u001b[39;49m\u001b[43m_parent\u001b[49m\u001b[38;5;241;43m.\u001b[39;49m\u001b[43mexecute\u001b[49m\u001b[43m(\u001b[49m\u001b[43mcommand\u001b[49m\u001b[43m,\u001b[49m\u001b[43m \u001b[49m\u001b[43mparams\u001b[49m\u001b[43m)\u001b[49m\n",
      "File \u001b[1;32m~\\anaconda3\\lib\\site-packages\\selenium\\webdriver\\remote\\webdriver.py:347\u001b[0m, in \u001b[0;36mWebDriver.execute\u001b[1;34m(self, driver_command, params)\u001b[0m\n\u001b[0;32m    345\u001b[0m response \u001b[38;5;241m=\u001b[39m \u001b[38;5;28mself\u001b[39m\u001b[38;5;241m.\u001b[39mcommand_executor\u001b[38;5;241m.\u001b[39mexecute(driver_command, params)\n\u001b[0;32m    346\u001b[0m \u001b[38;5;28;01mif\u001b[39;00m response:\n\u001b[1;32m--> 347\u001b[0m     \u001b[38;5;28;43mself\u001b[39;49m\u001b[38;5;241;43m.\u001b[39;49m\u001b[43merror_handler\u001b[49m\u001b[38;5;241;43m.\u001b[39;49m\u001b[43mcheck_response\u001b[49m\u001b[43m(\u001b[49m\u001b[43mresponse\u001b[49m\u001b[43m)\u001b[49m\n\u001b[0;32m    348\u001b[0m     response[\u001b[38;5;124m\"\u001b[39m\u001b[38;5;124mvalue\u001b[39m\u001b[38;5;124m\"\u001b[39m] \u001b[38;5;241m=\u001b[39m \u001b[38;5;28mself\u001b[39m\u001b[38;5;241m.\u001b[39m_unwrap_value(response\u001b[38;5;241m.\u001b[39mget(\u001b[38;5;124m\"\u001b[39m\u001b[38;5;124mvalue\u001b[39m\u001b[38;5;124m\"\u001b[39m, \u001b[38;5;28;01mNone\u001b[39;00m))\n\u001b[0;32m    349\u001b[0m     \u001b[38;5;28;01mreturn\u001b[39;00m response\n",
      "File \u001b[1;32m~\\anaconda3\\lib\\site-packages\\selenium\\webdriver\\remote\\errorhandler.py:229\u001b[0m, in \u001b[0;36mErrorHandler.check_response\u001b[1;34m(self, response)\u001b[0m\n\u001b[0;32m    227\u001b[0m         alert_text \u001b[38;5;241m=\u001b[39m value[\u001b[38;5;124m\"\u001b[39m\u001b[38;5;124malert\u001b[39m\u001b[38;5;124m\"\u001b[39m]\u001b[38;5;241m.\u001b[39mget(\u001b[38;5;124m\"\u001b[39m\u001b[38;5;124mtext\u001b[39m\u001b[38;5;124m\"\u001b[39m)\n\u001b[0;32m    228\u001b[0m     \u001b[38;5;28;01mraise\u001b[39;00m exception_class(message, screen, stacktrace, alert_text)  \u001b[38;5;66;03m# type: ignore[call-arg]  # mypy is not smart enough here\u001b[39;00m\n\u001b[1;32m--> 229\u001b[0m \u001b[38;5;28;01mraise\u001b[39;00m exception_class(message, screen, stacktrace)\n",
      "\u001b[1;31mElementNotInteractableException\u001b[0m: Message: element not interactable\n  (Session info: chrome=127.0.6533.90)\nStacktrace:\n\tGetHandleVerifier [0x00007FF7CF7E9632+30946]\n\t(No symbol) [0x00007FF7CF79E3C9]\n\t(No symbol) [0x00007FF7CF696E09]\n\t(No symbol) [0x00007FF7CF6E1E13]\n\t(No symbol) [0x00007FF7CF6DFF79]\n\t(No symbol) [0x00007FF7CF70CA6A]\n\t(No symbol) [0x00007FF7CF6DBBB6]\n\t(No symbol) [0x00007FF7CF70CC80]\n\t(No symbol) [0x00007FF7CF72B041]\n\t(No symbol) [0x00007FF7CF70C813]\n\t(No symbol) [0x00007FF7CF6DA6E5]\n\t(No symbol) [0x00007FF7CF6DB021]\n\tGetHandleVerifier [0x00007FF7CF91F83D+1301229]\n\tGetHandleVerifier [0x00007FF7CF92BDB7+1351783]\n\tGetHandleVerifier [0x00007FF7CF922A03+1313971]\n\tGetHandleVerifier [0x00007FF7CF81DD06+245686]\n\t(No symbol) [0x00007FF7CF7A758F]\n\t(No symbol) [0x00007FF7CF7A3804]\n\t(No symbol) [0x00007FF7CF7A3992]\n\t(No symbol) [0x00007FF7CF79A3EF]\n\tBaseThreadInitThunk [0x00007FF96F387374+20]\n\tRtlUserThreadStart [0x00007FF97137CC91+33]\n"
     ]
    }
   ],
   "source": [
    "chrome_options = Options()\n",
    "# chrome_options.add_argument(\"--headless\") \n",
    "service = Service(executable_path=\"chromedriver.exe\")\n",
    "chrome_options.add_argument(\"--incognito\")\n",
    "driver = webdriver.Chrome(service=service, options=chrome_options)\n",
    "\n",
    "link = \"https://accounts.google.com/v3/signin/identifier?continue=https%3A%2F%2Fmail.google.com%2Fmail%2F&ifkv=AdF4I765QReJ71WSNzVTcdsoMEbhspIY857CqKPihSR6sxgevRhjSenBf0E8ixkVkWXsK_fW2F-l&rip=1&sacu=1&service=mail&flowName=GlifWebSignIn&flowEntry=ServiceLogin&dsh=S1226061446%3A1723090234032641&ddm=0\"\n",
    "\n",
    "driver.get(link)\n",
    "\n",
    "WebDriverWait(driver, 10).until(EC.presence_of_element_located((By.ID, \"identifierId\"))).send_keys(mail_id)\n",
    "nt_button_path = \"//span[@jsname='V67aGc' and contains(@class, 'VfPpkd-vQzf8d') and text()='Next']\"\n",
    "WebDriverWait(driver, 10).until(EC.presence_of_element_located((By.XPATH, nt_button_path))).click()\n",
    "\n",
    "pwd_xpath = \"//input[@type='password' and @name='Passwd']\"\n",
    "WebDriverWait(driver, 10).until(EC.presence_of_element_located((By.XPATH, pwd_xpath))).send_keys(pwd)\n",
    "pwd_next_xpath = \"//*[@id='passwordNext']/div/button/span\"\n",
    "WebDriverWait(driver, 10).until(EC.presence_of_element_located((By.XPATH, pwd_next_xpath))).click()\n",
    "\n",
    "WebDriverWait(driver, 20).until(EC.presence_of_element_located((By.XPATH, \"//div[text()='Compose']\")))\n",
    "\n",
    "driver.get(\"https://mail.google.com/mail/u/0/#sent\")\n",
    "current_url = driver.current_url\n",
    "print(f\"Current URL after navigation: {current_url}\")\n",
    "\n",
    "\n",
    "emails_and_subjects = []\n",
    "\n",
    "while True:\n",
    "    WebDriverWait(driver, 20).until(EC.presence_of_element_located((By.CSS_SELECTOR, \"tr.zA\")))\n",
    "\n",
    "    email_elements = driver.find_elements(By.CSS_SELECTOR, \"span[email]\")\n",
    "    subject_elements = driver.find_elements(By.CSS_SELECTOR, \"span.bog\")\n",
    "\n",
    "    print(f\"Found {len(email_elements)} email elements on the page.\")\n",
    "\n",
    "    for email, subject in zip(email_elements, subject_elements):\n",
    "        email_address = email.get_attribute(\"email\")\n",
    "        subject_text = subject.text\n",
    "        emails_and_subjects.append((email_address, subject_text))\n",
    "\n",
    "    time.sleep(2)\n",
    "    try:\n",
    "        next_button = driver.find_element(By.XPATH, \"//span[@aria-label='Older']\")\n",
    "        next_button.click()\n",
    "    except:\n",
    "        break\n",
    "\n",
    "count = 0 \n",
    "for email, subject in emails_and_subjects:\n",
    "    count += 1\n",
    "    print(f\"Email: {email}, Subject: {subject}\")\n",
    "print(f\"length of email:  {count}\")\n",
    "# <td class=\"yX xY \" role=\"gridcell\" tabindex=\"-1\"><div id=\":nt\" class=\"afn\">To: <span email=\"2023pgcsca074@nitjsr.ac.in\" name=\"me\" data-hovercard-id=\"2023pgcsca074@nitjsr.ac.in\">me</span>, <span data-thread-id=\"#thread-a:r2065458378351908880\" data-legacy-thread-id=\"18d205a8329537ae\" data-legacy-last-message-id=\"18d205af658287ff\" data-legacy-last-non-draft-message-id=\"18d205af658287ff\">DS LAB 19-01-24</span>, has attachment, <span>19 Jan</span>, .</div><div id=\":nx\" class=\"yW\">To: <span email=\"2023pgcsca074@nitjsr.ac.in\" name=\"me\" data-hovercard-id=\"2023pgcsca074@nitjsr.ac.in\">me</span></div></td>\n",
    "\n",
    "# <table cellpadding=\"0\" id=\":ly\" class=\"F cf zt\" role=\"grid\" aria-readonly=\"true\"><colgroup><col class=\"k0vOLb\"><col class=\"Ci\"><col class=\"y5\"><col class=\"yF\"><col class=\"yY\"><col class=\"null\"><col class=\"eSDBXb\"><col class=\"yg\"><col class=\"xX\"><col class=\"bq4\"><col class=\"amZ\"></colgroup><tbody><tr class=\"zA yO\" jscontroller=\"ZdOxDb\" jsaction=\"Tnvr6c:RNc9jf;PG1zDd:eyrEaf;WGbBt:UL4Ddb;nVvxM:UL4Ddb;\" jsmodel=\"nXDxbd\" id=\":lz\" tabindex=\"-1\" role=\"row\" aria-labelledby=\":m0\" draggable=\"false\" jslog=\"18406; u014N:xr6bB,SYhH9d; 1:WyIjdGhyZWFkLWE6cjIzMjQ0ODAwMTE5ODE5NzYwMjYiLDAsbnVsbCwtODAyNzQ0MTA2LFtdLDAsbnVsbCwwXQ..; 4:W10.\"><td class=\"PF xY\"></td><td id=\":m1\" class=\"oZ-x3 xY\" style=\"\" data-tooltip=\"Select\"><div id=\":m2\" class=\"oZ-jc T-Jo J-J5-Ji \" role=\"checkbox\" aria-labelledby=\":m0\" dir=\"ltr\" aria-checked=\"false\" tabindex=\"-1\" jslog=\"202931; u014N:cOuCgd,Kr2w4b\"><div class=\"T-Jo-auh\"></div></div></td><td class=\"apU xY\"><span id=\":m3\" class=\"aXw T-KT\" aria-label=\"Not starred\" role=\"button\" data-tooltip=\"Not starred\"><img class=\"T-KT-JX\" src=\"images/cleardot.gif\" alt=\"Not starred\"></span></td><td class=\"yX xY \" role=\"gridcell\" tabindex=\"-1\"><div id=\":m0\" class=\"afn\">To: <span email=\"2023pgcsca074@nitjsr.ac.in\" name=\"me\" data-hovercard-id=\"2023pgcsca074@nitjsr.ac.in\">me</span>, <span data-thread-id=\"#thread-a:r2324480011981976026\" data-legacy-thread-id=\"191324a94e63fc17\" data-legacy-last-message-id=\"191324abb416da9b\" data-legacy-last-non-draft-message-id=\"191324abb416da9b\">IT's trial mail</span>, <span>8 Aug</span>, Erroorororor.</div><div id=\":m4\" class=\"yW\">To: <span email=\"2023pgcsca074@nitjsr.ac.in\" name=\"me\" data-hovercard-id=\"2023pgcsca074@nitjsr.ac.in\">me</span></div></td><td id=\":m5\" tabindex=\"-1\" class=\"xY a4W\" role=\"gridcell\"><div class=\"xS\" role=\"link\"><div class=\"xT\"><div class=\"yi\" id=\":m6\"><div class=\"ar as\"><div class=\"at\" title=\"Inbox\" style=\"background-color: #ddd; border-color: #ddd;\"><div class=\"au\" style=\"border-color:#ddd\"><div class=\"av\" style=\"color: #666\">Inbox</div></div></div></div><div class=\"as\">&nbsp;</div></div><div class=\"y6\"><span id=\":m7\" class=\"bog\"><span data-thread-id=\"#thread-a:r2324480011981976026\" data-legacy-thread-id=\"191324a94e63fc17\" data-legacy-last-message-id=\"191324abb416da9b\" data-legacy-last-non-draft-message-id=\"191324abb416da9b\">IT's trial mail</span></span></div><span id=\":m8\" class=\"y2\"><span class=\"Zt\">&nbsp;-&nbsp;</span>Erroorororor</span></div></div></td><td class=\"byZ xY\" role=\"gridcell\" tabindex=\"-1\"></td><td class=\"yf xY \">&nbsp;</td><td class=\"xW xY \" role=\"gridcell\" tabindex=\"-1\"><span title=\"Thu, 8 Aug 2024, 19:30\" id=\":ma\" aria-label=\"Thu, 8 Aug 2024, 19:30\"><span>8 Aug</span></span></td><td class=\"bq4 xY\"><ul class=\"bqY\" id=\":mb\" role=\"toolbar\"><li class=\"bqX brq\" data-tooltip=\"Archive\" jsaction=\"JqEhuc\" jscontroller=\"pk1i4d\" jslog=\"20281; u014N:xr6bB,cOuCgd,Kr2w4b; 1:WyIjdGhyZWFkLWE6cjIzMjQ0ODAwMTE5ODE5NzYwMjYiXQ..\"></li><li class=\"bqX bru\" data-tooltip=\"Delete\" jsaction=\"zM6fo\" jscontroller=\"pmCKac\" jslog=\"20283; u014N:xr6bB,cOuCgd,Kr2w4b; 1:WyIjdGhyZWFkLWE6cjIzMjQ0ODAwMTE5ODE5NzYwMjYiXQ..\"></li><li class=\"bqX SHFPQe\" data-tooltip=\"Mark as unread\" jsaction=\"XdlY1e\" jscontroller=\"VtSflc\" jslog=\"20284; u014N:xr6bB,cOuCgd,Kr2w4b; 1:WyIjdGhyZWFkLWE6cjIzMjQ0ODAwMTE5ODE5NzYwMjYiXQ..\"></li><li class=\"bqX brv\" data-tooltip=\"Snooze\" jsaction=\"u4Fnue\" jscontroller=\"PKSrle\" jslog=\"20285; u014N:xr6bB,cOuCgd,Kr2w4b; 1:WyIjdGhyZWFkLWE6cjIzMjQ0ODAwMTE5ODE5NzYwMjYiXQ..\"></li></ul></td><td class=\"xY\"></td></tr><tr class=\"zA yO byw\" jscontroller=\"ZdOxDb\" jsaction=\"Tnvr6c:RNc9jf;PG1zDd:eyrEaf;WGbBt:UL4Ddb;nVvxM:UL4Ddb;\" jsmodel=\"nXDxbd\" id=\":mc\" tabindex=\"-1\" role=\"row\" aria-labelledby=\":md\" draggable=\"false\" jslog=\"18406; u014N:xr6bB,SYhH9d; 1:WyIjdGhyZWFkLWE6ci03NTQ2MjM4NDQxNDI2OTc5MTc0IiwwLG51bGwsMCxbXSwwLG51bGwsMF0.; 4:W10.\"><td class=\"PF xY\"></td><td id=\":me\" class=\"oZ-x3 xY\" style=\"cursor: url(&quot;//ssl.gstatic.com/ui/v1/icons/mail/images/2/openhand.cur&quot;) 7 5, default;\" data-tooltip=\"Select\"><div id=\":mf\" class=\"oZ-jc T-Jo J-J5-Ji \" role=\"checkbox\" aria-labelledby=\":md\" dir=\"ltr\" aria-checked=\"false\" tabindex=\"-1\" jslog=\"202931; u014N:cOuCgd,Kr2w4b\"><div class=\"T-Jo-auh\"></div></div></td><td class=\"apU xY\"><span id=\":mg\" class=\"aXw T-KT\" aria-label=\"Not starred\" role=\"button\" data-tooltip=\"Not starred\"><img class=\"T-KT-JX\" src=\"images/cleardot.gif\" alt=\"Not starred\"></span></td><td class=\"yX xY \" role=\"gridcell\" tabindex=\"-1\"><div id=\":md\" class=\"afn\">To: <span email=\"2023pgcsca074@nitjsr.ac.in\" name=\"me\" data-hovercard-id=\"2023pgcsca074@nitjsr.ac.in\">me</span>, <span data-thread-id=\"#thread-a:r-7546238441426979174\" data-legacy-thread-id=\"18dd3e281746e58e\" data-legacy-last-message-id=\"18dd3e35d0535134\" data-legacy-last-non-draft-message-id=\"18dd3e35d0535134\">(no subject)</span>, has attachment, <span>23 Feb</span>, .</div><div id=\":mh\" class=\"yW\">To: <span email=\"2023pgcsca074@nitjsr.ac.in\" name=\"me\" data-hovercard-id=\"2023pgcsca074@nitjsr.ac.in\" data-hovercard-owner-id=\"20\">me</span></div></td><td id=\":mi\" tabindex=\"-1\" class=\"xY a4W\" role=\"gridcell\"><div class=\"xS\" role=\"link\"><div class=\"xT\"><div class=\"yi\" id=\":mj\"><div class=\"ar as\"><div class=\"at\" title=\"Inbox\" style=\"background-color: #ddd; border-color: #ddd;\"><div class=\"au\" style=\"border-color:#ddd\"><div class=\"av\" style=\"color: #666\">Inbox</div></div></div></div><div class=\"as\">&nbsp;</div></div><div class=\"y6\"><span id=\":mk\" class=\"bog\"><span data-thread-id=\"#thread-a:r-7546238441426979174\" data-legacy-thread-id=\"18dd3e281746e58e\" data-legacy-last-message-id=\"18dd3e35d0535134\" data-legacy-last-non-draft-message-id=\"18dd3e35d0535134\">(no subject)</span></span></div><span id=\":ml\" class=\"y2\">&nbsp;</span></div></div><div id=\":mm\" class=\"brd\" jscontroller=\"tnECjd\" jsaction=\"kZCq9d:sqHGIc;\"><div class=\"brc  \" data-index=\"0\" tabindex=\"0\" title=\"deque.cpp\" aria-disabled=\"false\" data-chipenabled=\"true\" jsaction=\"lkS8Jd\" jsname=\"DMMSG\" jslog=\"117040; u014N:xr6bB,cOuCgd,Kr2w4b; 1:WyIjdGhyZWFkLWE6ci03NTQ2MjM4NDQxNDI2OTc5MTc0Il0.\"><span class=\"bzB\">Attachment:</span><img class=\"brf\" aria-hidden=\"true\" alt=\"\" src=\"https://drive-thirdparty.googleusercontent.com/16/type/text/x-c-code\" srcset=\"https://drive-thirdparty.googleusercontent.com/32/type/text/x-c-code 2x\"><span class=\"brg\">deque.cpp</span></div><div class=\"brc  \" data-index=\"1\" tabindex=\"0\" title=\"multiple_queue.cpp\" aria-disabled=\"false\" data-chipenabled=\"true\" jsaction=\"lkS8Jd\" jsname=\"DMMSG\" jslog=\"117040; u014N:xr6bB,cOuCgd,Kr2w4b; 1:WyIjdGhyZWFkLWE6ci03NTQ2MjM4NDQxNDI2OTc5MTc0Il0.\"><span class=\"bzB\">Attachment:</span><img class=\"brf\" aria-hidden=\"true\" alt=\"\" src=\"https://drive-thirdparty.googleusercontent.com/16/type/text/x-c-code\" srcset=\"https://drive-thirdparty.googleusercontent.com/32/type/text/x-c-code 2x\"><span class=\"brg\">multiple_queue.cpp</span></div><div class=\"brc  \" data-index=\"2\" tabindex=\"0\" title=\"circular_queue_sir.cpp\" aria-disabled=\"false\" data-chipenabled=\"true\" jsaction=\"lkS8Jd\" jsname=\"DMMSG\" jslog=\"117040; u014N:xr6bB,cOuCgd,Kr2w4b; 1:WyIjdGhyZWFkLWE6ci03NTQ2MjM4NDQxNDI2OTc5MTc0Il0.\"><span class=\"bzB\">Attachment:</span><img class=\"brf\" aria-hidden=\"true\" alt=\"\" src=\"https://drive-thirdparty.googleusercontent.com/16/type/text/x-c-code\" srcset=\"https://drive-thirdparty.googleusercontent.com/32/type/text/x-c-code 2x\"><span class=\"brg\">circular_queue_sir.cpp</span></div><div class=\"bre brc\" jsaction=\"gWgFib\" tabindex=\"0\" title=\"1 more attachment\"><span class=\"brg\" aria-label=\"1 more attachment\" role=\"button\">+1</span></div></div></td><td class=\"byZ xY\" role=\"gridcell\" tabindex=\"-1\"></td><td class=\"yf xY \"><img class=\"yE\" src=\"images/cleardot.gif\" title=\"Has attachment\" alt=\"Has attachment\"></td><td class=\"xW xY \" role=\"gridcell\" tabindex=\"-1\"><span title=\"Fri, 23 Feb 2024, 08:25\" id=\":mn\" aria-label=\"Fri, 23 Feb 2024, 08:25\"><span>23 Feb</span></span></td><td class=\"bq4 xY\"><ul class=\"bqY\" id=\":mo\" role=\"toolbar\"><li class=\"bqX brq\" data-tooltip=\"Archive\" jsaction=\"JqEhuc\" jscontroller=\"pk1i4d\" jslog=\"20281; u014N:xr6bB,cOuCgd,Kr2w4b; 1:WyIjdGhyZWFkLWE6ci03NTQ2MjM4NDQxNDI2OTc5MTc0Il0.\"></li><li class=\"bqX bru\" data-tooltip=\"Delete\" jsaction=\"zM6fo\" jscontroller=\"pmCKac\" jslog=\"20283; u014N:xr6bB,cOuCgd,Kr2w4b; 1:WyIjdGhyZWFkLWE6ci03NTQ2MjM4NDQxNDI2OTc5MTc0Il0.\"></li><li class=\"bqX SHFPQe\" data-tooltip=\"Mark as unread\" jsaction=\"XdlY1e\" jscontroller=\"VtSflc\" jslog=\"20284; u014N:xr6bB,cOuCgd,Kr2w4b; 1:WyIjdGhyZWFkLWE6ci03NTQ2MjM4NDQxNDI2OTc5MTc0Il0.\"></li><li class=\"bqX brv\" data-tooltip=\"Snooze\" jsaction=\"u4Fnue\" jscontroller=\"PKSrle\" jslog=\"20285; u014N:xr6bB,cOuCgd,Kr2w4b; 1:WyIjdGhyZWFkLWE6ci03NTQ2MjM4NDQxNDI2OTc5MTc0Il0.\"></li></ul></td><td class=\"xY\"></td></tr><tr class=\"zA yO byw\" jscontroller=\"ZdOxDb\" jsaction=\"Tnvr6c:RNc9jf;PG1zDd:eyrEaf;WGbBt:UL4Ddb;nVvxM:UL4Ddb;\" jsmodel=\"nXDxbd\" id=\":mp\" tabindex=\"-1\" role=\"row\" aria-labelledby=\":mq\" draggable=\"false\" jslog=\"18406; u014N:xr6bB,SYhH9d; 1:WyIjdGhyZWFkLWE6ci0yNTI1OTQ1NjI3ODYyOTMyNDk4IiwwLG51bGwsMCxbXSwwLG51bGwsMF0.; 4:W10.\"><td class=\"PF xY\"></td><td id=\":mr\" class=\"oZ-x3 xY\" style=\"\" data-tooltip=\"Select\"><div id=\":ms\" class=\"oZ-jc T-Jo J-J5-Ji \" role=\"checkbox\" aria-labelledby=\":mq\" dir=\"ltr\" aria-checked=\"false\" tabindex=\"-1\" jslog=\"202931; u014N:cOuCgd,Kr2w4b\"><div class=\"T-Jo-auh\"></div></div></td><td class=\"apU xY\"><span id=\":mt\" class=\"aXw T-KT\" aria-label=\"Not starred\" role=\"button\" data-tooltip=\"Not starred\"><img class=\"T-KT-JX\" src=\"images/cleardot.gif\" alt=\"Not starred\"></span></td><td class=\"yX xY \" role=\"gridcell\" tabindex=\"-1\"><div id=\":mq\" class=\"afn\">To: <span email=\"2023pgcsca110@nitjsr.ac.in\" name=\"2023pgcsca1.\" data-hovercard-id=\"2023pgcsca110@nitjsr.ac.in\">2023pgcsca1.</span>, <span data-thread-id=\"#thread-a:r-2525945627862932498\" data-legacy-thread-id=\"18d213a073f9ba7e\" data-legacy-last-message-id=\"18d213a83cd94cb9\" data-legacy-last-non-draft-message-id=\"18d213a83cd94cb9\">(no subject)</span>, has attachment, <span>19 Jan</span>, .</div><div id=\":mu\" class=\"yW\">To: <span email=\"2023pgcsca110@nitjsr.ac.in\" name=\"2023pgcsca1.\" data-hovercard-id=\"2023pgcsca110@nitjsr.ac.in\">2023pgcsca1.</span></div></td><td id=\":mv\" tabindex=\"-1\" class=\"xY a4W\" role=\"gridcell\"><div class=\"xS\" role=\"link\"><div class=\"xT\"><div class=\"y6\"><span id=\":mx\" class=\"bog\"><span data-thread-id=\"#thread-a:r-2525945627862932498\" data-legacy-thread-id=\"18d213a073f9ba7e\" data-legacy-last-message-id=\"18d213a83cd94cb9\" data-legacy-last-non-draft-message-id=\"18d213a83cd94cb9\">(no subject)</span></span></div><span id=\":my\" class=\"y2\">&nbsp;</span></div></div><div id=\":mz\" class=\"brd\" jscontroller=\"tnECjd\" jsaction=\"kZCq9d:sqHGIc;\"><div class=\"brc  \" data-index=\"0\" tabindex=\"0\" title=\"lab1nc.cpp\" aria-disabled=\"false\" data-chipenabled=\"true\" jsaction=\"lkS8Jd\" jsname=\"DMMSG\" jslog=\"117040; u014N:xr6bB,cOuCgd,Kr2w4b; 1:WyIjdGhyZWFkLWE6ci0yNTI1OTQ1NjI3ODYyOTMyNDk4Il0.\"><span class=\"bzB\">Attachment:</span><img class=\"brf\" aria-hidden=\"true\" alt=\"\" src=\"https://drive-thirdparty.googleusercontent.com/16/type/text/x-c-code\" srcset=\"https://drive-thirdparty.googleusercontent.com/32/type/text/x-c-code 2x\"><span class=\"brg\">lab1nc.cpp</span></div></div></td><td class=\"byZ xY\" role=\"gridcell\" tabindex=\"-1\"></td><td class=\"yf xY \"><img class=\"yE\" src=\"images/cleardot.gif\" title=\"Has attachment\" alt=\"Has attachment\"></td><td class=\"xW xY \" role=\"gridcell\" tabindex=\"-1\"><span title=\"Fri, 19 Jan 2024, 15:48\" id=\":n0\" aria-label=\"Fri, 19 Jan 2024, 15:48\"><span>19 Jan</span></span></td><td class=\"bq4 xY\"><ul class=\"bqY\" id=\":n1\" role=\"toolbar\"><li class=\"bqX brq pW\" data-tooltip=\"Archive\" jslog=\"20281; u014N:xr6bB,cOuCgd,Kr2w4b; 1:WyIjdGhyZWFkLWE6ci0yNTI1OTQ1NjI3ODYyOTMyNDk4Il0.\"></li><li class=\"bqX bru\" data-tooltip=\"Delete\" jsaction=\"zM6fo\" jscontroller=\"pmCKac\" jslog=\"20283; u014N:xr6bB,cOuCgd,Kr2w4b; 1:WyIjdGhyZWFkLWE6ci0yNTI1OTQ1NjI3ODYyOTMyNDk4Il0.\"></li><li class=\"bqX SHFPQe\" data-tooltip=\"Mark as unread\" jsaction=\"XdlY1e\" jscontroller=\"VtSflc\" jslog=\"20284; u014N:xr6bB,cOuCgd,Kr2w4b; 1:WyIjdGhyZWFkLWE6ci0yNTI1OTQ1NjI3ODYyOTMyNDk4Il0.\"></li><li class=\"bqX brv\" data-tooltip=\"Snooze\" jsaction=\"u4Fnue\" jscontroller=\"PKSrle\" jslog=\"20285; u014N:xr6bB,cOuCgd,Kr2w4b; 1:WyIjdGhyZWFkLWE6ci0yNTI1OTQ1NjI3ODYyOTMyNDk4Il0.\"></li></ul></td><td class=\"xY\"></td></tr><tr class=\"zA yO byw\" jscontroller=\"ZdOxDb\" jsaction=\"Tnvr6c:RNc9jf;PG1zDd:eyrEaf;WGbBt:UL4Ddb;nVvxM:UL4Ddb;\" jsmodel=\"nXDxbd\" id=\":n2\" tabindex=\"-1\" role=\"row\" aria-labelledby=\":n3\" draggable=\"false\" jslog=\"18406; u014N:xr6bB,SYhH9d; 1:WyIjdGhyZWFkLWE6cjQwNTM1MDUxMDg5NDExMTM0NTkiLDAsbnVsbCwwLFtdLDAsbnVsbCwwXQ..; 4:W10.\"><td class=\"PF xY\"></td><td id=\":n4\" class=\"oZ-x3 xY\" style=\"\" data-tooltip=\"Select\"><div id=\":n5\" class=\"oZ-jc T-Jo J-J5-Ji \" role=\"checkbox\" aria-labelledby=\":n3\" dir=\"ltr\" aria-checked=\"false\" tabindex=\"-1\" jslog=\"202931; u014N:cOuCgd,Kr2w4b\"><div class=\"T-Jo-auh\"></div></div></td><td class=\"apU xY\"><span id=\":n6\" class=\"aXw T-KT\" aria-label=\"Not starred\" role=\"button\" data-tooltip=\"Not starred\"><img class=\"T-KT-JX\" src=\"images/cleardot.gif\" alt=\"Not starred\"></span></td><td class=\"yX xY \" role=\"gridcell\" tabindex=\"-1\"><div id=\":n3\" class=\"afn\">To: <span email=\"2023pgcsca074@nitjsr.ac.in\" name=\"me\" data-hovercard-id=\"2023pgcsca074@nitjsr.ac.in\">me</span>, <span data-thread-id=\"#thread-a:r4053505108941113459\" data-legacy-thread-id=\"18d213513e8d9657\" data-legacy-last-message-id=\"18d213541e4096da\" data-legacy-last-non-draft-message-id=\"18d213541e4096da\">(no subject)</span>, has attachment, <span>19 Jan</span>, .</div><div id=\":n7\" class=\"yW\">To: <span email=\"2023pgcsca074@nitjsr.ac.in\" name=\"me\" data-hovercard-id=\"2023pgcsca074@nitjsr.ac.in\">me</span></div></td><td id=\":n8\" tabindex=\"-1\" class=\"xY a4W\" role=\"gridcell\"><div class=\"xS\" role=\"link\"><div class=\"xT\"><div class=\"yi\" id=\":n9\"><div class=\"ar as\"><div class=\"at\" title=\"Inbox\" style=\"background-color: #ddd; border-color: #ddd;\"><div class=\"au\" style=\"border-color:#ddd\"><div class=\"av\" style=\"color: #666\">Inbox</div></div></div></div><div class=\"as\">&nbsp;</div></div><div class=\"y6\"><span id=\":na\" class=\"bog\"><span data-thread-id=\"#thread-a:r4053505108941113459\" data-legacy-thread-id=\"18d213513e8d9657\" data-legacy-last-message-id=\"18d213541e4096da\" data-legacy-last-non-draft-message-id=\"18d213541e4096da\">(no subject)</span></span></div><span id=\":nb\" class=\"y2\">&nbsp;</span></div></div><div id=\":nc\" class=\"brd\" jscontroller=\"tnECjd\" jsaction=\"kZCq9d:sqHGIc;\"><div class=\"brc  \" data-index=\"0\" tabindex=\"0\" title=\"lab1nc.cpp\" aria-disabled=\"false\" data-chipenabled=\"true\" jsaction=\"lkS8Jd\" jsname=\"DMMSG\" jslog=\"117040; u014N:xr6bB,cOuCgd,Kr2w4b; 1:WyIjdGhyZWFkLWE6cjQwNTM1MDUxMDg5NDExMTM0NTkiXQ..\"><span class=\"bzB\">Attachment:</span><img class=\"brf\" aria-hidden=\"true\" alt=\"\" src=\"https://drive-thirdparty.googleusercontent.com/16/type/text/x-c-code\" srcset=\"https://drive-thirdparty.googleusercontent.com/32/type/text/x-c-code 2x\"><span class=\"brg\">lab1nc.cpp</span></div></div></td><td class=\"byZ xY\" role=\"gridcell\" tabindex=\"-1\"></td><td class=\"yf xY \"><img class=\"yE\" src=\"images/cleardot.gif\" title=\"Has attachment\" alt=\"Has attachment\"></td><td class=\"xW xY \" role=\"gridcell\" tabindex=\"-1\"><span title=\"Fri, 19 Jan 2024, 15:42\" id=\":nd\" aria-label=\"Fri, 19 Jan 2024, 15:42\"><span>19 Jan</span></span></td><td class=\"bq4 xY\"><ul class=\"bqY\" id=\":ne\" role=\"toolbar\"><li class=\"bqX brq\" data-tooltip=\"Archive\" jsaction=\"JqEhuc\" jscontroller=\"pk1i4d\" jslog=\"20281; u014N:xr6bB,cOuCgd,Kr2w4b; 1:WyIjdGhyZWFkLWE6cjQwNTM1MDUxMDg5NDExMTM0NTkiXQ..\"></li><li class=\"bqX bru\" data-tooltip=\"Delete\" jsaction=\"zM6fo\" jscontroller=\"pmCKac\" jslog=\"20283; u014N:xr6bB,cOuCgd,Kr2w4b; 1:WyIjdGhyZWFkLWE6cjQwNTM1MDUxMDg5NDExMTM0NTkiXQ..\"></li><li class=\"bqX SHFPQe\" data-tooltip=\"Mark as unread\" jsaction=\"XdlY1e\" jscontroller=\"VtSflc\" jslog=\"20284; u014N:xr6bB,cOuCgd,Kr2w4b; 1:WyIjdGhyZWFkLWE6cjQwNTM1MDUxMDg5NDExMTM0NTkiXQ..\"></li><li class=\"bqX brv\" data-tooltip=\"Snooze\" jsaction=\"u4Fnue\" jscontroller=\"PKSrle\" jslog=\"20285; u014N:xr6bB,cOuCgd,Kr2w4b; 1:WyIjdGhyZWFkLWE6cjQwNTM1MDUxMDg5NDExMTM0NTkiXQ..\"></li></ul></td><td class=\"xY\"></td></tr><tr class=\"zA yO byw\" jscontroller=\"ZdOxDb\" jsaction=\"Tnvr6c:RNc9jf;PG1zDd:eyrEaf;WGbBt:UL4Ddb;nVvxM:UL4Ddb;\" jsmodel=\"nXDxbd\" id=\":nf\" tabindex=\"-1\" role=\"row\" aria-labelledby=\":ng\" draggable=\"false\" jslog=\"18406; u014N:xr6bB,SYhH9d; 1:WyIjdGhyZWFkLWE6ci03NDU3MTM0Mjg2MzI4NTgyNDc3IiwwLG51bGwsMCxbXSwwLG51bGwsMF0.; 4:W10.\"><td class=\"PF xY\"></td><td id=\":nh\" class=\"oZ-x3 xY\" style=\"\" data-tooltip=\"Select\"><div id=\":ni\" class=\"oZ-jc T-Jo J-J5-Ji \" role=\"checkbox\" aria-labelledby=\":ng\" dir=\"ltr\" aria-checked=\"false\" tabindex=\"-1\" jslog=\"202931; u014N:cOuCgd,Kr2w4b\"><div class=\"T-Jo-auh\"></div></div></td><td class=\"apU xY\"><span id=\":nj\" class=\"aXw T-KT\" aria-label=\"Not starred\" role=\"button\" data-tooltip=\"Not starred\"><img class=\"T-KT-JX\" src=\"images/cleardot.gif\" alt=\"Not starred\"></span></td><td class=\"yX xY \" role=\"gridcell\" tabindex=\"-1\"><div id=\":ng\" class=\"afn\">To: <span email=\"2023pgcsca074@nitjsr.ac.in\" name=\"me\" data-hovercard-id=\"2023pgcsca074@nitjsr.ac.in\">me</span>, <span data-thread-id=\"#thread-a:r-7457134286328582477\" data-legacy-thread-id=\"18d207172598562c\" data-legacy-last-message-id=\"18d2071cb0658faa\" data-legacy-last-non-draft-message-id=\"18d2071cb0658faa\">Stack update</span>, has attachment, <span>19 Jan</span>, .</div><div id=\":nk\" class=\"yW\">To: <span email=\"2023pgcsca074@nitjsr.ac.in\" name=\"me\" data-hovercard-id=\"2023pgcsca074@nitjsr.ac.in\">me</span></div></td><td id=\":nl\" tabindex=\"-1\" class=\"xY a4W\" role=\"gridcell\"><div class=\"xS\" role=\"link\"><div class=\"xT\"><div class=\"yi\" id=\":nm\"><div class=\"ar as\"><div class=\"at\" title=\"Inbox\" style=\"background-color: #ddd; border-color: #ddd;\"><div class=\"au\" style=\"border-color:#ddd\"><div class=\"av\" style=\"color: #666\">Inbox</div></div></div></div><div class=\"as\">&nbsp;</div></div><div class=\"y6\"><span id=\":nn\" class=\"bog\"><span data-thread-id=\"#thread-a:r-7457134286328582477\" data-legacy-thread-id=\"18d207172598562c\" data-legacy-last-message-id=\"18d2071cb0658faa\" data-legacy-last-non-draft-message-id=\"18d2071cb0658faa\">Stack update</span></span></div><span id=\":no\" class=\"y2\">&nbsp;</span></div></div><div id=\":np\" class=\"brd\" jscontroller=\"tnECjd\" jsaction=\"kZCq9d:sqHGIc;\"><div class=\"brc  \" data-index=\"0\" tabindex=\"0\" title=\"190124_4.cpp\" aria-disabled=\"false\" data-chipenabled=\"true\" jsaction=\"lkS8Jd\" jsname=\"DMMSG\" jslog=\"117040; u014N:xr6bB,cOuCgd,Kr2w4b; 1:WyIjdGhyZWFkLWE6ci03NDU3MTM0Mjg2MzI4NTgyNDc3Il0.\"><span class=\"bzB\">Attachment:</span><img class=\"brf\" aria-hidden=\"true\" alt=\"\" src=\"https://drive-thirdparty.googleusercontent.com/16/type/text/x-c-code\" srcset=\"https://drive-thirdparty.googleusercontent.com/32/type/text/x-c-code 2x\"><span class=\"brg\">190124_4.cpp</span></div></div></td><td class=\"byZ xY\" role=\"gridcell\" tabindex=\"-1\"></td><td class=\"yf xY \"><img class=\"yE\" src=\"images/cleardot.gif\" title=\"Has attachment\" alt=\"Has attachment\"></td><td class=\"xW xY \" role=\"gridcell\" tabindex=\"-1\"><span title=\"Fri, 19 Jan 2024, 12:09\" id=\":nq\" aria-label=\"Fri, 19 Jan 2024, 12:09\"><span>19 Jan</span></span></td><td class=\"bq4 xY\"><ul class=\"bqY\" id=\":nr\" role=\"toolbar\"><li class=\"bqX brq\" data-tooltip=\"Archive\" jsaction=\"JqEhuc\" jscontroller=\"pk1i4d\" jslog=\"20281; u014N:xr6bB,cOuCgd,Kr2w4b; 1:WyIjdGhyZWFkLWE6ci03NDU3MTM0Mjg2MzI4NTgyNDc3Il0.\"></li><li class=\"bqX bru\" data-tooltip=\"Delete\" jsaction=\"zM6fo\" jscontroller=\"pmCKac\" jslog=\"20283; u014N:xr6bB,cOuCgd,Kr2w4b; 1:WyIjdGhyZWFkLWE6ci03NDU3MTM0Mjg2MzI4NTgyNDc3Il0.\"></li><li class=\"bqX SHFPQe\" data-tooltip=\"Mark as unread\" jsaction=\"XdlY1e\" jscontroller=\"VtSflc\" jslog=\"20284; u014N:xr6bB,cOuCgd,Kr2w4b; 1:WyIjdGhyZWFkLWE6ci03NDU3MTM0Mjg2MzI4NTgyNDc3Il0.\"></li><li class=\"bqX brv\" data-tooltip=\"Snooze\" jsaction=\"u4Fnue\" jscontroller=\"PKSrle\" jslog=\"20285; u014N:xr6bB,cOuCgd,Kr2w4b; 1:WyIjdGhyZWFkLWE6ci03NDU3MTM0Mjg2MzI4NTgyNDc3Il0.\"></li></ul></td><td class=\"xY\"></td></tr><tr class=\"zA yO byw\" jscontroller=\"ZdOxDb\" jsaction=\"Tnvr6c:RNc9jf;PG1zDd:eyrEaf;WGbBt:UL4Ddb;nVvxM:UL4Ddb;\" jsmodel=\"nXDxbd\" id=\":ns\" tabindex=\"-1\" role=\"row\" aria-labelledby=\":nt\" draggable=\"false\" jslog=\"18406; u014N:xr6bB,SYhH9d; 1:WyIjdGhyZWFkLWE6cjIwNjU0NTgzNzgzNTE5MDg4ODAiLDAsbnVsbCwwLFtdLDAsbnVsbCwwXQ..; 4:W10.\"><td class=\"PF xY\"></td><td id=\":nu\" class=\"oZ-x3 xY\" style=\"\" data-tooltip=\"Select\"><div id=\":nv\" class=\"oZ-jc T-Jo J-J5-Ji \" role=\"checkbox\" aria-labelledby=\":nt\" dir=\"ltr\" aria-checked=\"false\" tabindex=\"-1\" jslog=\"202931; u014N:cOuCgd,Kr2w4b\"><div class=\"T-Jo-auh\"></div></div></td><td class=\"apU xY\"><span id=\":nw\" class=\"aXw T-KT\" aria-label=\"Not starred\" role=\"button\" data-tooltip=\"Not starred\"><img class=\"T-KT-JX\" src=\"images/cleardot.gif\" alt=\"Not starred\"></span></td><td class=\"yX xY \" role=\"gridcell\" tabindex=\"-1\"><div id=\":nt\" class=\"afn\">To: <span email=\"2023pgcsca074@nitjsr.ac.in\" name=\"me\" data-hovercard-id=\"2023pgcsca074@nitjsr.ac.in\">me</span>, <span data-thread-id=\"#thread-a:r2065458378351908880\" data-legacy-thread-id=\"18d205a8329537ae\" data-legacy-last-message-id=\"18d205af658287ff\" data-legacy-last-non-draft-message-id=\"18d205af658287ff\">DS LAB 19-01-24</span>, has attachment, <span>19 Jan</span>, .</div><div id=\":nx\" class=\"yW\">To: <span email=\"2023pgcsca074@nitjsr.ac.in\" name=\"me\" data-hovercard-id=\"2023pgcsca074@nitjsr.ac.in\">me</span></div></td><td id=\":ny\" tabindex=\"-1\" class=\"xY a4W\" role=\"gridcell\"><div class=\"xS\" role=\"link\"><div class=\"xT\"><div class=\"y6\"><span id=\":o0\" class=\"bog\"><span data-thread-id=\"#thread-a:r2065458378351908880\" data-legacy-thread-id=\"18d205a8329537ae\" data-legacy-last-message-id=\"18d205af658287ff\" data-legacy-last-non-draft-message-id=\"18d205af658287ff\">DS LAB 19-01-24</span></span></div><span id=\":o1\" class=\"y2\">&nbsp;</span></div></div><div id=\":o2\" class=\"brd\" jscontroller=\"tnECjd\" jsaction=\"kZCq9d:sqHGIc;\"><div class=\"brc  \" data-index=\"0\" tabindex=\"0\" title=\"190124_4.cpp\" aria-disabled=\"false\" data-chipenabled=\"true\" jsaction=\"lkS8Jd\" jsname=\"DMMSG\" jslog=\"117040; u014N:xr6bB,cOuCgd,Kr2w4b; 1:WyIjdGhyZWFkLWE6cjIwNjU0NTgzNzgzNTE5MDg4ODAiXQ..\"><span class=\"bzB\">Attachment:</span><img class=\"brf\" aria-hidden=\"true\" alt=\"\" src=\"https://drive-thirdparty.googleusercontent.com/16/type/text/x-c-code\" srcset=\"https://drive-thirdparty.googleusercontent.com/32/type/text/x-c-code 2x\"><span class=\"brg\">190124_4.cpp</span></div><div class=\"brc  \" data-index=\"1\" tabindex=\"0\" title=\"190124_3.cpp\" aria-disabled=\"false\" data-chipenabled=\"true\" jsaction=\"lkS8Jd\" jsname=\"DMMSG\" jslog=\"117040; u014N:xr6bB,cOuCgd,Kr2w4b; 1:WyIjdGhyZWFkLWE6cjIwNjU0NTgzNzgzNTE5MDg4ODAiXQ..\"><span class=\"bzB\">Attachment:</span><img class=\"brf\" aria-hidden=\"true\" alt=\"\" src=\"https://drive-thirdparty.googleusercontent.com/16/type/text/x-c-code\" srcset=\"https://drive-thirdparty.googleusercontent.com/32/type/text/x-c-code 2x\"><span class=\"brg\">190124_3.cpp</span></div><div class=\"brc  \" data-index=\"2\" tabindex=\"0\" title=\"190124_2.cpp\" aria-disabled=\"false\" data-chipenabled=\"true\" jsaction=\"lkS8Jd\" jsname=\"DMMSG\" jslog=\"117040; u014N:xr6bB,cOuCgd,Kr2w4b; 1:WyIjdGhyZWFkLWE6cjIwNjU0NTgzNzgzNTE5MDg4ODAiXQ..\"><span class=\"bzB\">Attachment:</span><img class=\"brf\" aria-hidden=\"true\" alt=\"\" src=\"https://drive-thirdparty.googleusercontent.com/16/type/text/x-c-code\" srcset=\"https://drive-thirdparty.googleusercontent.com/32/type/text/x-c-code 2x\"><span class=\"brg\">190124_2.cpp</span></div><div class=\"bre brc\" jsaction=\"gWgFib\" tabindex=\"0\" title=\"1 more attachment\"><span class=\"brg\" aria-label=\"1 more attachment\" role=\"button\">+1</span></div></div></td><td class=\"byZ xY\" role=\"gridcell\" tabindex=\"-1\"></td><td class=\"yf xY \"><img class=\"yE\" src=\"images/cleardot.gif\" title=\"Has attachment\" alt=\"Has attachment\"></td><td class=\"xW xY \" role=\"gridcell\" tabindex=\"-1\"><span title=\"Fri, 19 Jan 2024, 11:44\" id=\":o3\" aria-label=\"Fri, 19 Jan 2024, 11:44\"><span>19 Jan</span></span></td><td class=\"bq4 xY\"><ul class=\"bqY\" id=\":o4\" role=\"toolbar\"><li class=\"bqX brq pW\" data-tooltip=\"Archive\"></li><li class=\"bqX bru\" data-tooltip=\"Delete\" jsaction=\"zM6fo\" jscontroller=\"pmCKac\"></li><li class=\"bqX SHFPQe\" data-tooltip=\"Mark as unread\" jsaction=\"XdlY1e\" jscontroller=\"VtSflc\"></li><li class=\"bqX brv\" data-tooltip=\"Snooze\" jsaction=\"u4Fnue\" jscontroller=\"PKSrle\"></li></ul></td><td class=\"xY\"></td></tr></tbody></table>\n",
    "# <div id=\":ek\" class=\"T-I J-J5-Ji amD T-I-awG HeQuj T-I-ax7 T-I-Js-Gs T-I-JE L3\" role=\"button\" jslog=\"126439; u014N:cOuCgd,Kr2w4b\" aria-disabled=\"true\" data-tooltip=\"Older\" aria-label=\"Older\" style=\"user-select: none;\"><span class=\"amF\" aria-hidden=\"true\">&nbsp;</span><img class=\"amJ T-I-J3\" src=\"images/cleardot.gif\" alt=\"\"></div>\n",
    "driver.quit()"
   ]
  },
  {
   "cell_type": "code",
   "execution_count": null,
   "id": "1d2b292f",
   "metadata": {},
   "outputs": [],
   "source": []
  }
 ],
 "metadata": {
  "kernelspec": {
   "display_name": "Python 3 (ipykernel)",
   "language": "python",
   "name": "python3"
  },
  "language_info": {
   "codemirror_mode": {
    "name": "ipython",
    "version": 3
   },
   "file_extension": ".py",
   "mimetype": "text/x-python",
   "name": "python",
   "nbconvert_exporter": "python",
   "pygments_lexer": "ipython3",
   "version": "3.9.12"
  }
 },
 "nbformat": 4,
 "nbformat_minor": 5
}
