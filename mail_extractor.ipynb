{
 "cells": [
  {
   "cell_type": "code",
   "execution_count": 3,
   "id": "6a72ce09",
   "metadata": {},
   "outputs": [
    {
     "name": "stdout",
     "output_type": "stream",
     "text": [
      "Requirement already satisfied: selenium in c:\\users\\admin\\anaconda3\\lib\\site-packages (4.17.2)\n",
      "Requirement already satisfied: certifi>=2021.10.8 in c:\\users\\admin\\anaconda3\\lib\\site-packages (from selenium) (2021.10.8)\n",
      "Requirement already satisfied: trio~=0.17 in c:\\users\\admin\\anaconda3\\lib\\site-packages (from selenium) (0.24.0)\n",
      "Requirement already satisfied: trio-websocket~=0.9 in c:\\users\\admin\\anaconda3\\lib\\site-packages (from selenium) (0.11.1)\n",
      "Requirement already satisfied: typing_extensions>=4.9.0 in c:\\users\\admin\\anaconda3\\lib\\site-packages (from selenium) (4.9.0)\n",
      "Requirement already satisfied: urllib3[socks]<3,>=1.26 in c:\\users\\admin\\anaconda3\\lib\\site-packages (from selenium) (1.26.9)\n",
      "Requirement already satisfied: cffi>=1.14 in c:\\users\\admin\\anaconda3\\lib\\site-packages (from trio~=0.17->selenium) (1.15.0)\n",
      "Requirement already satisfied: exceptiongroup in c:\\users\\admin\\anaconda3\\lib\\site-packages (from trio~=0.17->selenium) (1.2.0)\n",
      "Requirement already satisfied: idna in c:\\users\\admin\\anaconda3\\lib\\site-packages (from trio~=0.17->selenium) (3.3)\n",
      "Requirement already satisfied: outcome in c:\\users\\admin\\anaconda3\\lib\\site-packages (from trio~=0.17->selenium) (1.3.0.post0)\n",
      "Requirement already satisfied: sniffio>=1.3.0 in c:\\users\\admin\\anaconda3\\lib\\site-packages (from trio~=0.17->selenium) (1.3.0)\n",
      "Requirement already satisfied: attrs>=20.1.0 in c:\\users\\admin\\anaconda3\\lib\\site-packages (from trio~=0.17->selenium) (21.4.0)\n",
      "Requirement already satisfied: sortedcontainers in c:\\users\\admin\\anaconda3\\lib\\site-packages (from trio~=0.17->selenium) (2.4.0)\n",
      "Requirement already satisfied: pycparser in c:\\users\\admin\\anaconda3\\lib\\site-packages (from cffi>=1.14->trio~=0.17->selenium) (2.21)\n",
      "Requirement already satisfied: wsproto>=0.14 in c:\\users\\admin\\anaconda3\\lib\\site-packages (from trio-websocket~=0.9->selenium) (1.2.0)\n",
      "Requirement already satisfied: PySocks!=1.5.7,<2.0,>=1.5.6 in c:\\users\\admin\\anaconda3\\lib\\site-packages (from urllib3[socks]<3,>=1.26->selenium) (1.7.1)\n",
      "Requirement already satisfied: h11<1,>=0.9.0 in c:\\users\\admin\\anaconda3\\lib\\site-packages (from wsproto>=0.14->trio-websocket~=0.9->selenium) (0.14.0)\n"
     ]
    }
   ],
   "source": [
    "!pip install selenium"
   ]
  },
  {
   "cell_type": "code",
   "execution_count": 4,
   "id": "6c934730",
   "metadata": {},
   "outputs": [],
   "source": [
    "from selenium import webdriver\n",
    "from selenium.webdriver.chrome.service import Service"
   ]
  },
  {
   "cell_type": "code",
   "execution_count": 5,
   "id": "1a2e3810",
   "metadata": {},
   "outputs": [],
   "source": [
    "from selenium.webdriver.common.by import By\n",
    "from selenium.webdriver.common.keys import Keys"
   ]
  },
  {
   "cell_type": "code",
   "execution_count": 6,
   "id": "8d426204",
   "metadata": {},
   "outputs": [],
   "source": [
    "from selenium.webdriver.support.ui import WebDriverWait\n",
    "from selenium.webdriver.support import expected_conditions as EC\n",
    "from selenium.webdriver.chrome.options import Options"
   ]
  },
  {
   "cell_type": "code",
   "execution_count": 29,
   "id": "199bbe0b",
   "metadata": {},
   "outputs": [],
   "source": [
    "import getpass\n",
    "import sys\n",
    "import time"
   ]
  },
  {
   "cell_type": "code",
   "execution_count": 8,
   "id": "2f9a925b",
   "metadata": {},
   "outputs": [],
   "source": [
    "# !pip install chromedriver_autoinstaller"
   ]
  },
  {
   "cell_type": "code",
   "execution_count": 9,
   "id": "daab9c1b",
   "metadata": {},
   "outputs": [],
   "source": [
    "# import chromedriver_autoinstaller as chromedriver\n",
    "# chromedriver.install()"
   ]
  },
  {
   "cell_type": "code",
   "execution_count": 18,
   "id": "9c47c00e",
   "metadata": {},
   "outputs": [
    {
     "name": "stdout",
     "output_type": "stream",
     "text": [
      "Enter the mail id:  2023pgcsca074@nitjsr.ac.in\n",
      "Enter mail password:  ········\n"
     ]
    }
   ],
   "source": [
    "mail_id = input(\"Enter the mail id:  \")\n",
    "sys.stdout.write(\"Enter mail password:  \")\n",
    "pwd = getpass.getpass()"
   ]
  },
  {
   "cell_type": "code",
   "execution_count": 36,
   "id": "3237e6be",
   "metadata": {},
   "outputs": [
    {
     "name": "stdout",
     "output_type": "stream",
     "text": [
      "Found 56 rows on the page.\n",
      "Email: None, Subject: , Date: \n",
      "Email: None, Subject: , Date: \n",
      "Email: None, Subject: , Date: \n",
      "Email: None, Subject: , Date: \n",
      "Email: None, Subject: , Date: \n",
      "Email: None, Subject: , Date: \n",
      "Email: None, Subject: , Date: \n",
      "Email: None, Subject: , Date: \n",
      "Email: None, Subject: , Date: \n",
      "Email: None, Subject: , Date: \n",
      "Email: None, Subject: , Date: \n",
      "Email: None, Subject: , Date: \n",
      "Email: None, Subject: , Date: \n",
      "Email: None, Subject: , Date: \n",
      "Email: None, Subject: , Date: \n",
      "Email: None, Subject: , Date: \n",
      "Email: None, Subject: , Date: \n",
      "Email: None, Subject: , Date: \n",
      "Email: None, Subject: , Date: \n",
      "Email: None, Subject: , Date: \n",
      "Email: None, Subject: , Date: \n",
      "Email: None, Subject: , Date: \n",
      "Email: None, Subject: , Date: \n",
      "Email: None, Subject: , Date: \n",
      "Email: None, Subject: , Date: \n",
      "Email: None, Subject: , Date: \n",
      "Email: None, Subject: , Date: \n",
      "Email: None, Subject: , Date: \n",
      "Email: None, Subject: , Date: \n",
      "Email: None, Subject: , Date: \n",
      "Email: None, Subject: , Date: \n",
      "Email: None, Subject: , Date: \n",
      "Email: None, Subject: , Date: \n",
      "Email: None, Subject: , Date: \n",
      "Email: None, Subject: , Date: \n",
      "Email: None, Subject: , Date: \n",
      "Email: None, Subject: , Date: \n",
      "Email: None, Subject: , Date: \n",
      "Email: None, Subject: , Date: \n",
      "Email: None, Subject: , Date: \n",
      "Email: None, Subject: , Date: \n",
      "Email: None, Subject: , Date: \n",
      "Email: None, Subject: , Date: \n",
      "Email: None, Subject: , Date: \n",
      "Email: None, Subject: , Date: \n",
      "Email: None, Subject: , Date: \n",
      "Email: None, Subject: , Date: \n",
      "Email: None, Subject: , Date: \n",
      "Email: None, Subject: , Date: \n",
      "Email: None, Subject: , Date: \n",
      "Email: None, Subject: , Date: 8 Aug\n",
      "Email: None, Subject: , Date: 23 Feb\n",
      "Email: None, Subject: , Date: 19 Jan\n",
      "Email: None, Subject: , Date: 19 Jan\n",
      "Email: None, Subject: , Date: 19 Jan\n",
      "Email: None, Subject: , Date: 19 Jan\n",
      "Length of email: 56\n"
     ]
    }
   ],
   "source": [
    "chrome_options = Options()\n",
    "# chrome_options.add_argument(\"--headless\")  # Uncomment to run headless\n",
    "service = Service(executable_path=\"chromedriver.exe\")\n",
    "chrome_options.add_argument(\"--incognito\")\n",
    "driver = webdriver.Chrome(service=service, options=chrome_options)\n",
    "\n",
    "\n",
    "link = \"https://accounts.google.com/v3/signin/identifier?continue=https%3A%2F%2Fmail.google.com%2Fmail%2F&ifkv=AdF4I765QReJ71WSNzVTcdsoMEbhspIY857CqKPihSR6sxgevRhjSenBf0E8ixkVkWXsK_fW2F-l&rip=1&sacu=1&service=mail&flowName=GlifWebSignIn&flowEntry=ServiceLogin&dsh=S1226061446%3A1723090234032641&ddm=0\"\n",
    "driver.get(link)\n",
    "\n",
    "WebDriverWait(driver, 10).until(EC.presence_of_element_located((By.ID, \"identifierId\"))).send_keys(mail_id)\n",
    "nt_button_path = \"//span[@jsname='V67aGc' and contains(@class, 'VfPpkd-vQzf8d') and text()='Next']\"\n",
    "WebDriverWait(driver, 10).until(EC.presence_of_element_located((By.XPATH, nt_button_path))).click()\n",
    "\n",
    "pwd_xpath = \"//input[@type='password' and @name='Passwd']\"\n",
    "WebDriverWait(driver, 10).until(EC.presence_of_element_located((By.XPATH, pwd_xpath))).send_keys(pwd)\n",
    "pwd_next_xpath = \"//*[@id='passwordNext']/div/button/span\"\n",
    "WebDriverWait(driver, 10).until(EC.presence_of_element_located((By.XPATH, pwd_next_xpath))).click()\n",
    "\n",
    "WebDriverWait(driver, 20).until(EC.presence_of_element_located((By.XPATH, \"//div[text()='Compose']\")))\n",
    "\n",
    "driver.get(\"https://mail.google.com/mail/u/0/#sent\")\n",
    "\n",
    "WebDriverWait(driver, 20).until(EC.presence_of_element_located((By.XPATH, \"//tr[contains(@class, 'zA')]\")))\n",
    "\n",
    "emails_and_subjects = []\n",
    "\n",
    "while True:\n",
    "    WebDriverWait(driver, 20).until(EC.presence_of_element_located((By.XPATH, \"//tr[contains(@class, 'zA')]\")))\n",
    "\n",
    "    rows = driver.find_elements(By.XPATH, \"//tr[contains(@class, 'zA')]\")\n",
    "\n",
    "    print(f\"Found {len(rows)} rows on the page.\")\n",
    "\n",
    "    for row in rows:\n",
    "        try:\n",
    "            email_element = row.find_element(By.XPATH, \".//td[@class='yX xY']//div[@class='afn']//span[@email]\")\n",
    "            email_address = email_element.get_attribute(\"email\")\n",
    "        except:\n",
    "            email_address = None\n",
    "        \n",
    "        try:\n",
    "            subject_element = row.find_element(By.XPATH, \".//td[@class='yX xY ']//div[@class='afn']//span[@data-thread-id]\")\n",
    "            subject_text = subject_element.text\n",
    "        except:\n",
    "            subject_text = None\n",
    "        \n",
    "        # Extract date\n",
    "        try:\n",
    "            date_element = row.find_element(By.XPATH, \".//td[@class='xW xY ']//span[@aria-label]\")\n",
    "            date_text = date_element.text\n",
    "        except:\n",
    "            date_text = None\n",
    "\n",
    "        emails_and_subjects.append((email_address, subject_text, date_text))\n",
    "\n",
    "    time.sleep(2)\n",
    "    try:\n",
    "        next_button = driver.find_element(By.XPATH, \"//span[@aria-label='Older']\")\n",
    "        next_button.click()\n",
    "    except:\n",
    "        break\n",
    "\n",
    "# Print the extracted emails and subjects\n",
    "count = 0 \n",
    "for email, subject, date in emails_and_subjects:\n",
    "    count += 1\n",
    "    print(f\"Email: {email}, Subject: {subject}, Date: {date}\")\n",
    "print(f\"Length of email: {count}\")\n",
    "\n",
    "# Close the driver\n",
    "driver.quit()"
   ]
  },
  {
   "cell_type": "code",
   "execution_count": null,
   "id": "32716b80",
   "metadata": {},
   "outputs": [],
   "source": []
  }
 ],
 "metadata": {
  "kernelspec": {
   "display_name": "Python 3 (ipykernel)",
   "language": "python",
   "name": "python3"
  },
  "language_info": {
   "codemirror_mode": {
    "name": "ipython",
    "version": 3
   },
   "file_extension": ".py",
   "mimetype": "text/x-python",
   "name": "python",
   "nbconvert_exporter": "python",
   "pygments_lexer": "ipython3",
   "version": "3.9.12"
  }
 },
 "nbformat": 4,
 "nbformat_minor": 5
}
